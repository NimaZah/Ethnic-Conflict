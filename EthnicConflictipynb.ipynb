{
  "nbformat": 4,
  "nbformat_minor": 0,
  "metadata": {
    "colab": {
      "name": "EthnicConflictipynb",
      "provenance": [],
      "collapsed_sections": [],
      "authorship_tag": "ABX9TyM3Y+FtKey9chkcgBgZ21oe",
      "include_colab_link": true
    },
    "kernelspec": {
      "name": "python3",
      "display_name": "Python 3"
    },
    "language_info": {
      "name": "python"
    }
  },
  "cells": [
    {
      "cell_type": "markdown",
      "metadata": {
        "id": "view-in-github",
        "colab_type": "text"
      },
      "source": [
        "<a href=\"https://colab.research.google.com/github/NimaZah/Ethnic-Conflict/blob/main/EthnicConflictipynb.ipynb\" target=\"_parent\"><img src=\"https://colab.research.google.com/assets/colab-badge.svg\" alt=\"Open In Colab\"/></a>"
      ]
    },
    {
      "cell_type": "code",
      "execution_count": null,
      "metadata": {
        "id": "9a6w1ewUVaBm"
      },
      "outputs": [],
      "source": [
        "#/*===========================================================================\n",
        "# This code is written in R language: \n",
        "# The code has incompatibility with colab envirenment. Please, first set up the\n",
        "# editing envirenment\n",
        "#---------------------------------------------------------------------------\n",
        "#  Creation Date:      February 6, 2020\n",
        "#  Do-file version:    06\n",
        "#  Output:             Graphs\n",
        "#  In collaboration with Anahita Zahedinameghi \n",
        "#===========================================================================*/\n",
        "\n",
        "#/*=========================================================================\n",
        "#                                   0: Program set up\n",
        "#===========================================================================*/\n",
        "# NOTES: \n",
        "\n",
        "# 1. Users can access data using the following address:\n",
        "\n",
        "# \"https://raw.githubusercontent.com/NimaZah/Ethnic-Conflict/main/data.csv\"\n",
        "# \n",
        "#  \n",
        "\n",
        "#clear environment\n",
        "rm(list=ls())\n",
        "\n",
        "# Load libraries\n",
        "library(QCA)\n",
        "library(foreign)\n",
        "library(KRLS)\n",
        "require(pROC)\n",
        "\n",
        "# Load data\n",
        "x <- read.csv(\"https://raw.githubusercontent.com/NimaZah/Ethnic-Conflict/main/data.csv\", \n",
        "              header = TRUE, sep=\";\")\n",
        "head(x)\n",
        "\n"
      ]
    },
    {
      "cell_type": "code",
      "source": [
        "# QCA analysis of necessary conditions\n",
        "condsfull < -c(\"polx\", \"oust\", \"ruler\", \"petrol\", \"precon\", \"tiny\", \"instab\", \"tekcon\",\n",
        "  \"conc\", \"xpoor\", \"havtek\")\n",
        "superSubset(x, outcome = \"onset\", neg.out = FALSE, conditions = condsfull,\n",
        "  relation = \"necessity\", incl.cut = 0.95, cov.cut = 0.5,\n",
        "  use.tilde = FALSE, use.letters = FALSE)\n",
        "superSubset(x, outcome = \"onset\", neg.out = FALSE, conditions = condsfull,\n",
        "  relation = \"necessity\", incl.cut = 0.95, cov.cut = 0.2,\n",
        "  use.tilde = FALSE, use.letters = FALSE)\n",
        "\n",
        "# QCA sufficiency analysis with all 11 conditions(not reported in the report)\n",
        "condsfull < -c(\"polx\", \"oust\", \"ruler\", \"petrol\", \"precon\", \"tiny\", \"instab\",\n",
        "  \"tekcon\", \"conc\", \"xpoor\", \"havtek\")\n",
        "tt < -truthTable(x, outcome = \"onset\", conditions = condsfull, incl.cut1 = 0.7,\n",
        "  sort.by = c(\"incl\", \"n\"), complete = TRUE)\n",
        "tt\n",
        "\n",
        "ILR < -rownames(tt$tt[(tt$tt$POLX == 1 | tt$tt$OUST == 1) & tt$tt$RULER == 1, ])\n",
        "tt$tt[ILR, ]\n",
        "sol.com < -eqmcc(tt, details = TRUE)\n",
        "sol.com\n",
        "sol.par < -eqmcc(tt, include = \"?\", omit = ILR, details = TRUE)\n",
        "sol.par\n",
        "sol.int < -eqmcc(tt, include = \"?\", omit = ILR, direxp = c(1, 1, 0,\n",
        "    1, 1, 0,\n",
        "    1, 1, 1,\n",
        "    1, 1),\n",
        "  details = TRUE)\n",
        "sol.int\n",
        "factorize(sol.int)"
      ],
      "metadata": {
        "id": "Yqt5k9GVc7cL"
      },
      "execution_count": null,
      "outputs": []
    },
    {
      "cell_type": "code",
      "source": [
        "# Replication of Table II\n",
        "conds < -c(\"polx\", \"oust\", \"ruler\", \"petrol\", \"precon\", \"tiny\", \"instab\", \"tekcon\")\n",
        "tt < -truthTable(x, outcome = \"onset\", conditions = conds, incl.cut1 = 0.7,\n",
        "  sort.by = c(\"incl\", \"n\"), complete = TRUE)\n",
        "tt\n",
        "ILR < -rownames(tt$tt[(tt$tt$POLX == 1 | tt$tt$OUST == 1) & tt$tt$RULER == 1, ])\n",
        "tt$tt[ILR, ]\n",
        "sol.com < -eqmcc(tt, details = TRUE)\n",
        "sol.com\n",
        "sol.par < -eqmcc(tt, include = \"?\", omit = ILR, details = TRUE)\n",
        "sol.par\n",
        "sol.int < -eqmcc(tt, include = \"?\", omit = ILR, direxp = c(1, 1, 0, 1, 1, 0, 1, 1),\n",
        "  details = TRUE)\n",
        "sol.int\n",
        "factorize(sol.int)\n",
        "\n",
        "# Replication of Table IV, in -sample predictions\n",
        "\n",
        "# all positive predictions QCA\n",
        "which(x$ruler == 0 & x$tiny == 0 & ((x$polx == 1 & x$precon == 1) | (x$oust == 1 &\n",
        "    x$instab == 1 &\n",
        "    x$polx == 0) |\n",
        "  (x$petrol == 0 & x$instab == 1 & x$tekcon == 1) |\n",
        "  (x$polx == 1 & x$petrol == 1 & x$instab == 1 & x$tekcon == 0)))\n",
        "# all true predictions QCA\n",
        "which(x$onset == 1 & x$ruler == 0 & x$tiny == 0 & ((x$polx == 1 & x$precon == 1) |\n",
        "  (x$oust == 1 & x$instab == 1 & x$polx == 0) |\n",
        "  (x$petrol == 0 & x$instab == 1 & x$tekcon == 1) |\n",
        "  (x$polx == 1 & x$petrol == 1 & x$instab == 1 & x$tekcon == 0)))\n",
        "\n",
        "# in -sample prediction logit(replication of table VII online appendix)\n",
        "glm.fit < -glm(onset~polx + oust + ruler + tiny + precon + petrol + instab + tekcon, data = x, family = binomial)\n",
        "summary(glm.fit)\n",
        "glm.pred < -predict(glm.fit, type = \"response\")\n",
        "glm.pred\n",
        "roc.fit < -roc(response = x$onset, predictor = glm.pred)\n",
        "plot(roc.fit)\n",
        "coords(roc.fit, \"b\", ret = \"sensitivity\", best.method = \"closest.topleft\")"
      ],
      "metadata": {
        "id": "H6KbfdnnWXDP"
      },
      "execution_count": null,
      "outputs": []
    },
    {
      "cell_type": "code",
      "source": [
        "# Replication of Table IV, out - of -sample predictions\n",
        "\n",
        "# out - of -sample prediction logit(also replication of table VII online appendix)\n",
        "training.df < -read.csv(\"Prediction - estimation data 1990-2004.csv\", header = TRUE, sep = \";\")\n",
        "test.df < -read.csv(\"Prediction - prediction data 2005-2009.csv\", header = TRUE, sep = \";\")\n",
        "training.fit < -glm(onset~polx + oust + ruler + tiny + precon + petrol +\n",
        "  instab + tekcon, data = training.df, family = binomial)\n",
        "summary(training.fit)\n",
        "test.pred < -predict(training.fit, type = \"response\", newdata = test.df)\n",
        "test.pred\n",
        "roc.fit < -roc(response = test.df$onset, predictor = test.pred)\n",
        "plot(roc.fit)\n",
        "coords(roc.fit, \"b\", ret = \"sensitivity\", best.method = \"closest.topleft\")\n",
        "\n",
        "# out - of -sample prediction QCA\n",
        "\n",
        "x2 < -read.csv(\"Prediction - estimation data 1990-2004.csv\", header = TRUE, sep = \";\")\n",
        "conds < -c(\"polx\", \"oust\", \"ruler\", \"petrol\", \"precon\", \"tiny\", \"instab\", \"tekcon\")\n",
        "tt < -truthTable(x2, outcome = \"onset\", conditions = conds, incl.cut1 = 0.7,\n",
        "  sort.by = c(\"incl\", \"n\"), complete = TRUE)\n",
        "ILR < -rownames(tt$tt[(tt$tt$POLX == 1 | tt$tt$OUST == 1) & tt$tt$RULER == 1, ])\n",
        "sol.int2 < -eqmcc(tt, include = \"?\", omit = ILR, direxp = c(1, 1, 0, 1, 1, 0, 1, 1), details = TRUE)\n",
        "sol.int2"
      ],
      "metadata": {
        "id": "XRROYy93bcNf"
      },
      "execution_count": null,
      "outputs": []
    },
    {
      "cell_type": "code",
      "source": [
        "# load test data\n",
        "x3 < -read.csv(\"Prediction - prediction data 2005-2009.csv\", header = TRUE, sep = \";\")\n",
        "# all positive predictions based on sol.int2\n",
        "which(x3$ruler == 0 & x3$tiny == 0 & ((x3$polx == 1 & x3$precon == 1) |\n",
        "  (x3$oust == 1 & x3$instab == 1 & x3$polx == 0) |\n",
        "  (x3$petrol == 0 & x3$instab == 1 & x3$tekcon == 1) |\n",
        "  (x3$polx == 1 & x3$petrol == 1 & x3$instab == 1 & x3$tekcon == 0)))\n",
        "# all true predictions based on sol.int2\n",
        "which(x3$onset == 1 & x3$ruler == 0 & x3$tiny == 0 & ((x3$polx == 1 & x3$precon == 1) |\n",
        "  (x3$oust == 1 & x3$instab == 1 & x3$polx == 0) |\n",
        "  (x3$petrol == 0 & x3$instab == 1 & x3$tekcon == 1) |\n",
        "  (x3$polx == 1 & x3$petrol == 1 & x3$instab == 1 & x3$tekcon == 0)))"
      ],
      "metadata": {
        "id": "gPT6Y4nkbtnT"
      },
      "execution_count": null,
      "outputs": []
    },
    {
      "cell_type": "code",
      "source": [
        "# out - of -sample prediction QCA at threshold 0.75(QCA2)\n",
        "x4 < -read.csv(\"Prediction - estimation data 1990-2004.csv\", header = TRUE, sep = \";\")\n",
        "conds < -c(\"polx\", \"oust\", \"ruler\", \"petrol\", \"precon\", \"tiny\", \"instab\", \"tekcon\")\n",
        "tt < -truthTable(x4, outcome = \"onset\", conditions = conds, incl.cut1 = 0.75,\n",
        "  sort.by = c(\"incl\", \"n\"), complete = TRUE)\n",
        "ILR < -rownames(tt$tt[(tt$tt$POLX == 1 | tt$tt$OUST == 1) & tt$tt$RULER == 1, ])\n",
        "sol.int3 < -eqmcc(tt, include = \"?\", omit = ILR, direxp = c(1, 1, 0, 1, 1, 0, 1, 1), details = TRUE)\n",
        "sol.int3"
      ],
      "metadata": {
        "id": "wtybjkJlbz5v"
      },
      "execution_count": null,
      "outputs": []
    },
    {
      "cell_type": "code",
      "source": [
        "# load test data\n",
        "x4 < -read.csv(\"Prediction - prediction data 2005-2009.csv\", header = TRUE, sep = \";\")\n",
        "# all positive predictions based on sol.int3\n",
        "which(x4$instab == 1 & x4$ruler == 0 & x4$tiny == 0 & ((x4$oust == 1 & x4$tekcon == 1) |\n",
        "    (x4$polx == 0 & x4$oust == 1) |\n",
        "    (x4$polx == 0 & x4$tekcon == 1) |\n",
        "    (x4$polx == 1 & x4$petrol == 1 & x4$tekcon == 0)) |\n",
        "  (x4$polx == 1 & x4$ruler == 0 & x4$precon == 1 & x4$tiny == 0))\n",
        "# all true predictions based on sol.int3\n",
        "which(x4$onset == 1 & (x4$instab == 1 & x4$ruler == 0 & x4$tiny == 0 & ((x4$oust == 1 & x4$tekcon == 1) |\n",
        "    (x4$polx == 0 & x4$oust == 1) |\n",
        "    (x4$polx == 0 & x4$tekcon == 1) |\n",
        "    (x4$polx == 1 & x4$petrol == 1 & x4$tekcon == 0)) |\n",
        "  (x4$polx == 1 & x4$ruler == 0 & x4$precon == 1 & x4$tiny == 0)))"
      ],
      "metadata": {
        "id": "gQN75cuRb2LN"
      },
      "execution_count": null,
      "outputs": []
    },
    {
      "cell_type": "code",
      "source": [
        "# Replication of Table VI in the online appendix(robustness test polx2)\n",
        "x < -read.csv(\"Replication data incentives and opportunities.csv\", header = TRUE, sep = \";\")\n",
        "head(x)\n",
        "conds < -c(\"polx2\", \"oust\", \"ruler\", \"petrol\", \"precon\", \"tiny\", \"instab\", \"tekcon\")\n",
        "tt < -truthTable(x, outcome = \"onset\", conditions = conds, incl.cut1 = 0.7,\n",
        "  sort.by = c(\"incl\", \"n\"), complete = TRUE)\n",
        "tt\n",
        "ILR < -rownames(tt$tt[(tt$tt$POLX == 1 | tt$tt$OUST == 1) & tt$tt$RULER == 1, ])\n",
        "tt$tt[ILR, ]\n",
        "sol.int < -eqmcc(tt, include = \"?\", omit = ILR, direxp = c(1, 1, 0, 1, 1, 0, 1, 1), details = TRUE)\n",
        "sol.int"
      ],
      "metadata": {
        "id": "DF-2u-_Lb83h"
      },
      "execution_count": null,
      "outputs": []
    },
    {
      "cell_type": "code",
      "source": [
        "# Replication of Table IX in the online appendix('peace'\n",
        "  analysis)\n",
        "condsfull < -c(\"polx\", \"oust\", \"ruler\", \"petrol\", \"precon\", \"tiny\", \"instab\", \"tekcon\",\n",
        "  \"conc\", \"xpoor\", \"havtek\", \"xrich70\", \"xrich80\")\n",
        "superSubset(x, outcome = \"onset\", neg.out = TRUE, conditions = condsfull,\n",
        "  relation = \"necessity\", incl.cut = 0.95, cov.cut = 0.5, use.tilde = FALSE,\n",
        "  use.letters = FALSE)\n",
        "\n",
        "# Replication of Table X('peace'\n",
        "  analysis) in the online appendix, Model 1\n",
        "conds1 < -c(\"oust\", \"precon\", \"tekcon\", \"tiny\", \"ruler\")\n",
        "tt < -truthTable(x, outcome = \"onset\", neg.out = TRUE, conditions = conds1,\n",
        "  incl.cut1 = 0.9, n.cut = 5,\n",
        "  sort.by = c(\"incl\", \"n\"), complete = TRUE)\n",
        "tt\n",
        "sol.com < -eqmcc(tt, details = TRUE)\n",
        "sol.com\n",
        "sol.par < -eqmcc(tt, include = \"?\", details = TRUE)\n",
        "sol.par\n",
        "sol.int < -eqmcc(tt, include = \"?\", direxp = c(0, 0, 0, 1, 1), details = TRUE)\n",
        "sol.int\n",
        "\n",
        "# Replication of Table X('peace'\n",
        "  analysis) in the online appendix, Model 2\n",
        "conds3 < -c(\"oust\", \"precon\", \"tekcon\", \"petrol\", \"tiny\", \"ruler\")\n",
        "tt < -truthTable(x, outcome = \"onset\", neg.out = TRUE, conditions = conds3,\n",
        "  incl.cut1 = 0.9, n.cut = 5,\n",
        "  sort.by = c(\"incl\", \"n\"), complete = TRUE)\n",
        "tt\n",
        "sol.com < -eqmcc(tt, details = TRUE)\n",
        "sol.com\n",
        "sol.par < -eqmcc(tt, include = \"?\", details = TRUE)\n",
        "sol.par\n",
        "sol.int < -eqmcc(tt, include = \"?\", direxp = c(0, 0, 0, 0, 1, 1), details = TRUE)\n",
        "sol.int"
      ],
      "metadata": {
        "id": "ESMpVENocBkp"
      },
      "execution_count": null,
      "outputs": []
    },
    {
      "cell_type": "code",
      "source": [
        "# Replication of tables XI and XII in the online appendix(interaction terms)\n",
        "# Conflict trap\n",
        "glm.fit < -glm(onset~polx + oust + ruler + tiny + precon + petrol + instab +\n",
        "  tekcon + polx_precon, data = x, family = binomial)\n",
        "summary(glm.fit)\n",
        "glm.pred < -predict(glm.fit, type = \"response\")\n",
        "glm.pred\n",
        "roc.fit < -roc(response = x$onset, predictor = glm.pred)\n",
        "plot(roc.fit)\n",
        "coords(roc.fit, \"b\", ret = \"sensitivity\", best.method = \"closest.topleft\")\n",
        "pforconflicttrap < -cbind(response = x$onset, predictor = glm.pred)\n",
        "write.table(pforconflicttrap, file = \"pforconflicttrap.csv\", sep = \",\", row.names = F)"
      ],
      "metadata": {
        "id": "on5yGYCBcIBF"
      },
      "execution_count": null,
      "outputs": []
    },
    {
      "cell_type": "code",
      "source": [
        "# Conflict trap with necessary condition not tiny & not ruler\n",
        "glm.fit < -glm(onset~polx + oust + nottinynotruler + precon + petrol +\n",
        "  instab + tekcon + ntnr_polx_precon + ntnr_polx +\n",
        "  ntnr_precon + polx_precon, data = x, family = binomial)\n",
        "summary(glm.fit)\n",
        "glm.pred < -predict(glm.fit, type = \"response\")\n",
        "glm.pred\n",
        "roc.fit < -roc(response = x$onset, predictor = glm.pred)\n",
        "plot(roc.fit)\n",
        "coords(roc.fit, \"b\", ret = \"sensitivity\", best.method = \"closest.topleft\")\n",
        "pfornecconconflicttrap < -cbind(response = x$onset, predictor = glm.pred)\n",
        "write.table(pfornecconconflicttrap, file = \"pfornecconconflicttrap.csv\", sep = \",\",\n",
        "  row.names = F)"
      ],
      "metadata": {
        "id": "6tntmdOGcKHR"
      },
      "execution_count": null,
      "outputs": []
    },
    {
      "cell_type": "code",
      "source": [
        "# Bad neighborhood\n",
        "glm.fit < -glm(onset~polx + oust + ruler + tiny + precon + petrol +\n",
        "  instab + tekcon + tekcon_instab, data = x, family = binomial)\n",
        "summary(glm.fit)\n",
        "glm.pred < -predict(glm.fit, type = \"response\")\n",
        "glm.pred\n",
        "roc.fit < -roc(response = x$onset, predictor = glm.pred)\n",
        "plot(roc.fit)\n",
        "coords(roc.fit, \"b\", ret = \"sensitivity\", best.method = \"closest.topleft\")\n",
        "pforneighborhood < -cbind(response = x$onset, predictor = glm.pred)\n",
        "write.table(pforneighborhood, file = \"pforneighborhood.csv\", sep = \",\", row.names = F)\n",
        "\n",
        "# Bad neighborhood with necessary condition not tiny & not ruler\n",
        "glm.fit < -glm(onset~polx + oust + nottinynotruler + precon + petrol +\n",
        "  instab + tekcon + ntnr_tekcon_instab + ntnr_tekcon +\n",
        "  ntnr_instab + tekcon_instab, data = x, family = binomial)\n",
        "summary(glm.fit)\n",
        "glm.pred < -predict(glm.fit, type = \"response\")\n",
        "glm.pred\n",
        "roc.fit < -roc(response = x$onset, predictor = glm.pred)\n",
        "plot(roc.fit)\n",
        "coords(roc.fit, \"b\", ret = \"sensitivity\", best.method = \"closest.topleft\")\n",
        "pfornecconneighborhood < -cbind(response = x$onset, predictor = glm.pred)\n",
        "write.table(pfornecconneighborhood, file = \"pfornecconneighborhood.csv\", sep = \",\n",
        "    \",row.names=F)"
      ],
      "metadata": {
        "id": "9Xml2c47cPzF"
      },
      "execution_count": null,
      "outputs": []
    },
    {
      "cell_type": "code",
      "source": [
        "# Ousted rulers\n",
        "glm.fit < -glm(onset~polx + oust + ruler + tiny + precon + petrol +\n",
        "  instab + tekcon + oust_instab, data = x, family = binomial)\n",
        "summary(glm.fit)\n",
        "glm.pred < -predict(glm.fit, type = \"response\")\n",
        "glm.pred\n",
        "roc.fit < -roc(response = x$onset, predictor = glm.pred)\n",
        "plot(roc.fit)\n",
        "coords(roc.fit, \"b\", ret = \"sensitivity\", best.method = \"closest.topleft\")\n",
        "pforoustedrulers < -cbind(response = x$onset, predictor = glm.pred)\n",
        "write.table(pforoustedrulers, file = \"pforoustedrulers.csv\", sep = \",\", row.names = F)"
      ],
      "metadata": {
        "id": "rWxXF0Y5cUSB"
      },
      "execution_count": null,
      "outputs": []
    },
    {
      "cell_type": "code",
      "source": [
        "# Resource curse\n",
        "glm.fit < -glm(onset~polx + oust + ruler + tiny + precon + petrol + instab +\n",
        "  tekcon + petrol_polx_instab + petrol_polx + petrol_instab +\n",
        "  polx_instab, data = x, family = binomial)\n",
        "summary(glm.fit)\n",
        "glm.pred < -predict(glm.fit, type = \"response\")\n",
        "glm.pred\n",
        "roc.fit < -roc(response = x$onset, predictor = glm.pred)\n",
        "plot(roc.fit)\n",
        "coords(roc.fit, \"b\", ret = \"sensitivity\", best.method = \"closest.topleft\")\n",
        "pforresourcecurse < -cbind(response = x$onset, predictor = glm.pred)\n",
        "write.table(pforresourcecurse, file = \"pforresourcecurse.csv\", sep = \",\", row.names = F)"
      ],
      "metadata": {
        "id": "OIyzug9PcWP2"
      },
      "execution_count": null,
      "outputs": []
    },
    {
      "cell_type": "code",
      "source": [
        "# All four paths\n",
        "glm.fit < -glm(onset~polx + oust + ruler + tiny + precon + petrol +\n",
        "  instab + tekcon + polx_precon + tekcon_instab + oust_instab +\n",
        "  petrol_polx_instab + petrol_polx + petrol_instab +\n",
        "  polx_instab, data = x, family = binomial)\n",
        "summary(glm.fit)\n",
        "glm.pred < -predict(glm.fit, type = \"response\")\n",
        "glm.pred\n",
        "roc.fit < -roc(response = x$onset, predictor = glm.pred)\n",
        "plot(roc.fit)\n",
        "coords(roc.fit, \"b\", ret = \"sensitivity\", best.method = \"closest.topleft\")\n",
        "pforallpaths < -cbind(response = x$onset, predictor = glm.pred)\n",
        "write.table(pforallpaths, file = \"pforallpaths.csv\", sep = \",\", row.names = F)"
      ],
      "metadata": {
        "id": "TFpVa-MrcYki"
      },
      "execution_count": null,
      "outputs": []
    }
  ]
}